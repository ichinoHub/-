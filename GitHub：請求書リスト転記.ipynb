{
 "cells": [
  {
   "cell_type": "code",
   "execution_count": null,
   "id": "6486ef15-e6af-4cd5-bbe9-dde3b89be479",
   "metadata": {},
   "outputs": [],
   "source": [
    "# ver.1\n",
    "import openpyxl\n",
    "\n",
    "jutyuu_list = [\"１\", \"２\", \"３\"]\n",
    "\n",
    "seikyusyo_workbook=openpyxl.load_workbook(\"請求リスト.xlsx\")\n",
    "print(seikyusyo_workbook)\n",
    "seikyusyo_sheet =seikyusyo_workbook.active \n",
    "\n",
    "row_index = 2\n",
    "\n",
    "for i in jutyuu_list:\n",
    "    jutyuu_workbook = openpyxl.load_workbook(\"請求書_テスト{}.xlsx\".format(i), data_only=True)\n",
    "    print(jutyuu_workbook)\n",
    "\n",
    "    jutyuu_sheet = jutyuu_workbook[\"Sheet1\"]\n",
    "    print(jutyuu_sheet)\n",
    "\n",
    "    for i in range(1):\n",
    "        seikyusyo_sheet.cell(row = row_index,column =1).value = jutyuu_sheet.cell(row = 3,column =14).value\n",
    "        seikyusyo_sheet.cell(row = row_index,column =2).value = jutyuu_sheet.cell(row = 3,column =1).value\n",
    "        seikyusyo_sheet.cell(row = row_index,column =3).value = jutyuu_sheet.cell(row = 32,column =12).value\n",
    "        seikyusyo_sheet.cell(row = row_index,column =4).value = jutyuu_sheet.cell(row = 4,column =14).value\n",
    "        \n",
    "    row_index += 1 # 行のインデックスを1つ増やす\n",
    "seikyusyo_workbook.save(\"請求リスト2.xlsx\")"
   ]
  }
 ],
 "metadata": {
  "kernelspec": {
   "display_name": "Python 3 (ipykernel)",
   "language": "python",
   "name": "python3"
  },
  "language_info": {
   "codemirror_mode": {
    "name": "ipython",
    "version": 3
   },
   "file_extension": ".py",
   "mimetype": "text/x-python",
   "name": "python",
   "nbconvert_exporter": "python",
   "pygments_lexer": "ipython3",
   "version": "3.12.2"
  }
 },
 "nbformat": 4,
 "nbformat_minor": 5
}
